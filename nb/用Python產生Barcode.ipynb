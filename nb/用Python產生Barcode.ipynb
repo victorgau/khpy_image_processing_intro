{
 "cells": [
  {
   "cell_type": "markdown",
   "metadata": {
    "colab_type": "text",
    "id": "nWuyj_QJMJhh"
   },
   "source": [
    "# 用Python產生Barcode"
   ]
  },
  {
   "cell_type": "markdown",
   "metadata": {
    "colab_type": "text",
    "id": "BH-AdroLNy7P"
   },
   "source": [
    "參考連結：https://github.com/WhyNotHugo/python-barcode"
   ]
  },
  {
   "cell_type": "code",
   "execution_count": null,
   "metadata": {
    "colab": {
     "base_uri": "https://localhost:8080/",
     "height": 124
    },
    "colab_type": "code",
    "id": "OH_Zgm8GLN1r",
    "outputId": "6a063f76-b00c-4e04-8ed1-d98ea83eb653"
   },
   "outputs": [
    {
     "name": "stdout",
     "output_type": "stream",
     "text": [
      "Collecting python-barcode\n",
      "\u001b[?25l  Downloading https://files.pythonhosted.org/packages/4e/aa/90966e1caf4d630b2bb420084c9eaa14a7d2ddc8e8a4311cd55ac90753a8/python_barcode-0.13.1-py3-none-any.whl (217kB)\n",
      "\u001b[K     |████████████████████████████████| 225kB 4.5MB/s eta 0:00:01\n",
      "\u001b[?25hInstalling collected packages: python-barcode\n",
      "Successfully installed python-barcode-0.13.1\n"
     ]
    }
   ],
   "source": [
    "# 安裝barcode套件\n",
    "!pip install -q python-barcode"
   ]
  },
  {
   "cell_type": "code",
   "execution_count": null,
   "metadata": {
    "colab": {},
    "colab_type": "code",
    "id": "2j8Y3cYSLGqj"
   },
   "outputs": [],
   "source": [
    "import barcode"
   ]
  },
  {
   "cell_type": "code",
   "execution_count": null,
   "metadata": {
    "colab": {},
    "colab_type": "code",
    "id": "QVlV2CWULJU0"
   },
   "outputs": [],
   "source": [
    "from barcode.writer import ImageWriter\n",
    "ean = barcode.get('ean13', '123456789102', writer=ImageWriter())"
   ]
  },
  {
   "cell_type": "code",
   "execution_count": null,
   "metadata": {
    "colab": {},
    "colab_type": "code",
    "id": "dEov9mvwLZlx"
   },
   "outputs": [],
   "source": [
    "filename = ean.save('ean13')"
   ]
  }
 ],
 "metadata": {
  "colab": {
   "name": "用Python產生Barcode.ipynb",
   "provenance": []
  },
  "kernelspec": {
   "display_name": "Python 3",
   "language": "python",
   "name": "python3"
  },
  "language_info": {
   "codemirror_mode": {
    "name": "ipython",
    "version": 3
   },
   "file_extension": ".py",
   "mimetype": "text/x-python",
   "name": "python",
   "nbconvert_exporter": "python",
   "pygments_lexer": "ipython3",
   "version": "3.8.3"
  }
 },
 "nbformat": 4,
 "nbformat_minor": 4
}
